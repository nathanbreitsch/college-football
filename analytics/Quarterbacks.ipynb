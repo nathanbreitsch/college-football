{
 "cells": [
  {
   "cell_type": "code",
   "execution_count": 32,
   "metadata": {
    "collapsed": false
   },
   "outputs": [],
   "source": [
    "import sklearn\n",
    "from peewee import *\n",
    "from playhouse.shortcuts import model_to_dict\n",
    "import pandas as pd\n",
    "import matplotlib.pyplot as plt"
   ]
  },
  {
   "cell_type": "code",
   "execution_count": 33,
   "metadata": {
    "collapsed": false
   },
   "outputs": [],
   "source": [
    "import sys\n",
    "sys.path.append('..')\n",
    "from etl.models import Athlete, Action, Observation"
   ]
  },
  {
   "cell_type": "code",
   "execution_count": 46,
   "metadata": {
    "collapsed": false
   },
   "outputs": [],
   "source": [
    "#height vs weight for quarterbacks\n",
    "athlete_query = Athlete.select()\n",
    "athletes = [a for a in athlete_query]\n",
    "athlete_dicts = [model_to_dict(a) for a in athletes]"
   ]
  },
  {
   "cell_type": "code",
   "execution_count": 47,
   "metadata": {
    "collapsed": false
   },
   "outputs": [
    {
     "data": {
      "text/html": [
       "<div>\n",
       "<table border=\"1\" class=\"dataframe\">\n",
       "  <thead>\n",
       "    <tr style=\"text-align: right;\">\n",
       "      <th></th>\n",
       "      <th>first_name</th>\n",
       "      <th>height</th>\n",
       "      <th>id</th>\n",
       "      <th>last_name</th>\n",
       "      <th>number</th>\n",
       "      <th>position</th>\n",
       "      <th>team</th>\n",
       "      <th>weight</th>\n",
       "      <th>year</th>\n",
       "    </tr>\n",
       "  </thead>\n",
       "  <tbody>\n",
       "    <tr>\n",
       "      <th>0</th>\n",
       "      <td>Emanuel</td>\n",
       "      <td>6-4</td>\n",
       "      <td>1</td>\n",
       "      <td>Porter</td>\n",
       "      <td>1</td>\n",
       "      <td>WR</td>\n",
       "      <td>{u'code': u'TCU', u'id': 247, u'name': u'TCU'}</td>\n",
       "      <td>210</td>\n",
       "      <td>SO</td>\n",
       "    </tr>\n",
       "    <tr>\n",
       "      <th>1</th>\n",
       "      <td>Kolby</td>\n",
       "      <td>6-1</td>\n",
       "      <td>2</td>\n",
       "      <td>Listenbee</td>\n",
       "      <td>7</td>\n",
       "      <td>WR</td>\n",
       "      <td>{u'code': u'TCU', u'id': 247, u'name': u'TCU'}</td>\n",
       "      <td>183</td>\n",
       "      <td>SR</td>\n",
       "    </tr>\n",
       "    <tr>\n",
       "      <th>2</th>\n",
       "      <td>Josh</td>\n",
       "      <td>6-3</td>\n",
       "      <td>3</td>\n",
       "      <td>Doctson</td>\n",
       "      <td>9</td>\n",
       "      <td>WR</td>\n",
       "      <td>{u'code': u'TCU', u'id': 247, u'name': u'TCU'}</td>\n",
       "      <td>195</td>\n",
       "      <td>SR</td>\n",
       "    </tr>\n",
       "    <tr>\n",
       "      <th>3</th>\n",
       "      <td>Desmon</td>\n",
       "      <td>5-7</td>\n",
       "      <td>4</td>\n",
       "      <td>White</td>\n",
       "      <td>10</td>\n",
       "      <td>WR</td>\n",
       "      <td>{u'code': u'TCU', u'id': 247, u'name': u'TCU'}</td>\n",
       "      <td>150</td>\n",
       "      <td>SO</td>\n",
       "    </tr>\n",
       "    <tr>\n",
       "      <th>4</th>\n",
       "      <td>Zach</td>\n",
       "      <td>6-3</td>\n",
       "      <td>5</td>\n",
       "      <td>Allen</td>\n",
       "      <td>11</td>\n",
       "      <td>WR</td>\n",
       "      <td>{u'code': u'TCU', u'id': 247, u'name': u'TCU'}</td>\n",
       "      <td>210</td>\n",
       "      <td>SO</td>\n",
       "    </tr>\n",
       "  </tbody>\n",
       "</table>\n",
       "</div>"
      ],
      "text/plain": [
       "  first_name height  id  last_name number position  \\\n",
       "0    Emanuel    6-4   1     Porter      1       WR   \n",
       "1      Kolby    6-1   2  Listenbee      7       WR   \n",
       "2       Josh    6-3   3    Doctson      9       WR   \n",
       "3     Desmon    5-7   4      White     10       WR   \n",
       "4       Zach    6-3   5      Allen     11       WR   \n",
       "\n",
       "                                             team weight year  \n",
       "0  {u'code': u'TCU', u'id': 247, u'name': u'TCU'}    210   SO  \n",
       "1  {u'code': u'TCU', u'id': 247, u'name': u'TCU'}    183   SR  \n",
       "2  {u'code': u'TCU', u'id': 247, u'name': u'TCU'}    195   SR  \n",
       "3  {u'code': u'TCU', u'id': 247, u'name': u'TCU'}    150   SO  \n",
       "4  {u'code': u'TCU', u'id': 247, u'name': u'TCU'}    210   SO  "
      ]
     },
     "execution_count": 47,
     "metadata": {},
     "output_type": "execute_result"
    }
   ],
   "source": [
    "#view raw data\n",
    "athlete_dfrm = pd.DataFrame(athlete_dicts)\n",
    "athlete_dfrm.head()"
   ]
  },
  {
   "cell_type": "code",
   "execution_count": 62,
   "metadata": {
    "collapsed": false
   },
   "outputs": [],
   "source": [
    "#data transformation\n",
    "\n",
    "#convert ft-in to inches\n",
    "def height_to_inches(height_str):\n",
    "    try:\n",
    "        (feet, inches) = height_str.split('-')\n",
    "    except (ValueError):\n",
    "        return None\n",
    "    return int(inches) + int(feet) * 12\n",
    "\n",
    "def clean_weight(weight_string):\n",
    "    try:\n",
    "        return int(weight_string)\n",
    "    except (ValueError, TypeError):\n",
    "        return None\n",
    "\n",
    "def transform_athlete(a):\n",
    "    a.height = height_to_inches(a.height)\n",
    "    a.weight = clean_weight(a.weight)\n",
    "    return a\n",
    "\n",
    "transformed = map(transform_athlete, athletes)"
   ]
  },
  {
   "cell_type": "code",
   "execution_count": 65,
   "metadata": {
    "collapsed": false
   },
   "outputs": [
    {
     "data": {
      "text/html": [
       "<div>\n",
       "<table border=\"1\" class=\"dataframe\">\n",
       "  <thead>\n",
       "    <tr style=\"text-align: right;\">\n",
       "      <th></th>\n",
       "      <th>first_name</th>\n",
       "      <th>height</th>\n",
       "      <th>id</th>\n",
       "      <th>last_name</th>\n",
       "      <th>number</th>\n",
       "      <th>position</th>\n",
       "      <th>team</th>\n",
       "      <th>weight</th>\n",
       "      <th>year</th>\n",
       "    </tr>\n",
       "  </thead>\n",
       "  <tbody>\n",
       "    <tr>\n",
       "      <th>0</th>\n",
       "      <td>Emanuel</td>\n",
       "      <td>None</td>\n",
       "      <td>1</td>\n",
       "      <td>Porter</td>\n",
       "      <td>1</td>\n",
       "      <td>WR</td>\n",
       "      <td>{u'code': u'TCU', u'id': 247, u'name': u'TCU'}</td>\n",
       "      <td>210</td>\n",
       "      <td>SO</td>\n",
       "    </tr>\n",
       "    <tr>\n",
       "      <th>1</th>\n",
       "      <td>Kolby</td>\n",
       "      <td>None</td>\n",
       "      <td>2</td>\n",
       "      <td>Listenbee</td>\n",
       "      <td>7</td>\n",
       "      <td>WR</td>\n",
       "      <td>{u'code': u'TCU', u'id': 247, u'name': u'TCU'}</td>\n",
       "      <td>183</td>\n",
       "      <td>SR</td>\n",
       "    </tr>\n",
       "    <tr>\n",
       "      <th>2</th>\n",
       "      <td>Josh</td>\n",
       "      <td>None</td>\n",
       "      <td>3</td>\n",
       "      <td>Doctson</td>\n",
       "      <td>9</td>\n",
       "      <td>WR</td>\n",
       "      <td>{u'code': u'TCU', u'id': 247, u'name': u'TCU'}</td>\n",
       "      <td>195</td>\n",
       "      <td>SR</td>\n",
       "    </tr>\n",
       "    <tr>\n",
       "      <th>3</th>\n",
       "      <td>Desmon</td>\n",
       "      <td>None</td>\n",
       "      <td>4</td>\n",
       "      <td>White</td>\n",
       "      <td>10</td>\n",
       "      <td>WR</td>\n",
       "      <td>{u'code': u'TCU', u'id': 247, u'name': u'TCU'}</td>\n",
       "      <td>150</td>\n",
       "      <td>SO</td>\n",
       "    </tr>\n",
       "    <tr>\n",
       "      <th>4</th>\n",
       "      <td>Zach</td>\n",
       "      <td>None</td>\n",
       "      <td>5</td>\n",
       "      <td>Allen</td>\n",
       "      <td>11</td>\n",
       "      <td>WR</td>\n",
       "      <td>{u'code': u'TCU', u'id': 247, u'name': u'TCU'}</td>\n",
       "      <td>210</td>\n",
       "      <td>SO</td>\n",
       "    </tr>\n",
       "  </tbody>\n",
       "</table>\n",
       "</div>"
      ],
      "text/plain": [
       "  first_name height  id  last_name number position  \\\n",
       "0    Emanuel   None   1     Porter      1       WR   \n",
       "1      Kolby   None   2  Listenbee      7       WR   \n",
       "2       Josh   None   3    Doctson      9       WR   \n",
       "3     Desmon   None   4      White     10       WR   \n",
       "4       Zach   None   5      Allen     11       WR   \n",
       "\n",
       "                                             team  weight year  \n",
       "0  {u'code': u'TCU', u'id': 247, u'name': u'TCU'}     210   SO  \n",
       "1  {u'code': u'TCU', u'id': 247, u'name': u'TCU'}     183   SR  \n",
       "2  {u'code': u'TCU', u'id': 247, u'name': u'TCU'}     195   SR  \n",
       "3  {u'code': u'TCU', u'id': 247, u'name': u'TCU'}     150   SO  \n",
       "4  {u'code': u'TCU', u'id': 247, u'name': u'TCU'}     210   SO  "
      ]
     },
     "execution_count": 65,
     "metadata": {},
     "output_type": "execute_result"
    }
   ],
   "source": [
    "athlete_dicts = [model_to_dict(a) for a in athletes]\n",
    "athlete_dfrm = pd.DataFrame(athlete_dicts)\n",
    "athlete_dfrm.head()"
   ]
  },
  {
   "cell_type": "code",
   "execution_count": 67,
   "metadata": {
    "collapsed": false
   },
   "outputs": [],
   "source": []
  },
  {
   "cell_type": "code",
   "execution_count": 68,
   "metadata": {
    "collapsed": false
   },
   "outputs": [
    {
     "data": {
      "text/plain": [
       "'6'"
      ]
     },
     "execution_count": 68,
     "metadata": {},
     "output_type": "execute_result"
    }
   ],
   "source": []
  },
  {
   "cell_type": "code",
   "execution_count": null,
   "metadata": {
    "collapsed": true
   },
   "outputs": [],
   "source": []
  }
 ],
 "metadata": {
  "kernelspec": {
   "display_name": "Python 2",
   "language": "python",
   "name": "python2"
  },
  "language_info": {
   "codemirror_mode": {
    "name": "ipython",
    "version": 2
   },
   "file_extension": ".py",
   "mimetype": "text/x-python",
   "name": "python",
   "nbconvert_exporter": "python",
   "pygments_lexer": "ipython2",
   "version": "2.7.10"
  }
 },
 "nbformat": 4,
 "nbformat_minor": 0
}
